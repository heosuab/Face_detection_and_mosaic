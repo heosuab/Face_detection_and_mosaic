{
  "nbformat": 4,
  "nbformat_minor": 0,
  "metadata": {
    "accelerator": "GPU",
    "colab": {
      "name": "Face_detection_Mosaic.ipynb",
      "provenance": [],
      "collapsed_sections": [],
      "include_colab_link": true
    },
    "kernelspec": {
      "display_name": "Python 3",
      "name": "python3"
    }
  },
  "cells": [
    {
      "cell_type": "markdown",
      "metadata": {
        "id": "view-in-github",
        "colab_type": "text"
      },
      "source": [
        "<a href=\"https://colab.research.google.com/github/heosuab/Face_detection_and_mosaic/blob/main/Face_detection_Mosaic.ipynb\" target=\"_parent\"><img src=\"https://colab.research.google.com/assets/colab-badge.svg\" alt=\"Open In Colab\"/></a>"
      ]
    },
    {
      "cell_type": "code",
      "metadata": {
        "id": "s50b79gGJLaf"
      },
      "source": [
        "from google.colab import drive\n",
        "drive.mount('/content/drive')"
      ],
      "execution_count": null,
      "outputs": []
    },
    {
      "cell_type": "code",
      "metadata": {
        "id": "KmtwEhIvJNkA"
      },
      "source": [
        "!pip install face_recognition opencv-python matplotlib\n",
        "import cv2, os\n",
        "import face_recognition as fr\n",
        "from IPython.display import Image, display\n",
        "from matplotlib import pyplot as plt"
      ],
      "execution_count": null,
      "outputs": []
    },
    {
      "cell_type": "code",
      "metadata": {
        "id": "9xhnkM2EJqb1"
      },
      "source": [
        "import math\n",
        "from sklearn import neighbors\n",
        "import os\n",
        "import os.path\n",
        "import pickle\n",
        "from pathlib import Path\n",
        "from PIL import Image, ImageDraw, ImageFilter\n",
        "import face_recognition as fr\n",
        "from  face_recognition.face_recognition_cli import image_files_in_folder\n",
        "\n",
        "ALLOWED_EXTENSIONS = {'png', 'jpg', 'jpeg'}"
      ],
      "execution_count": null,
      "outputs": []
    },
    {
      "cell_type": "code",
      "metadata": {
        "id": "PG0uy9ARKYRb"
      },
      "source": [
        "#    Trains a k-nearest neighbors classifier for face recognition.\n",
        "\n",
        "X = []\n",
        "y = []\n",
        "train_dir = '/content/drive/MyDrive/Colab_Notebooks/train_dir'\n",
        "model_path = '/content/drive/MyDrive/Colab_Notebooks/model_save'\n",
        "model_save_path = Path(model_path) / 'model_save.pkl'\n",
        "n_neighbors = None\n",
        "knn_algo = 'ball_tree'\n",
        "verbose = False\n",
        "count = 0\n",
        "# Loop through each person in the training set\n",
        "for class_dir in os.listdir(train_dir):\n",
        "   if not os.path.isdir(os.path.join(train_dir, class_dir)):\n",
        "       continue\n",
        "     # Loop through each training image for the current person\n",
        "   for img_path in image_files_in_folder(os.path.join(train_dir, class_dir)):\n",
        "        count+=1\n",
        "        image = fr.load_image_file(img_path)\n",
        "        face_bounding_boxes = fr.face_locations(image)\n",
        "\n",
        "        if len(face_bounding_boxes) != 1:\n",
        "           # If there are no people (or too many people) in a training image, skip the image.\n",
        "           if verbose:\n",
        "                print(\"Image {} not suitable for training: {}\".format(img_path, \"Didn't find a face\" if len(face_bounding_boxes) < 1 else \"Found more than one face\"))\n",
        "        else:\n",
        "           # Add face encoding for current image to the training set\n",
        "            X.append(fr.face_encodings(image, known_face_locations=face_bounding_boxes)[0])\n",
        "            y.append(class_dir)\n",
        " # Determine how many neighbors to use for weighting in the KNN classifier\n",
        "if n_neighbors is None:\n",
        "    n_neighbors = int(round(math.sqrt(len(X))))+7\n",
        "    print(len(X), n_neighbors)\n",
        "    if verbose:\n",
        "        print(\"Chose n_neighbors automatically:\", n_neighbors)\n",
        " # Create and train the KNN classifier\n",
        "knn_clf = neighbors.KNeighborsClassifier(n_neighbors=n_neighbors, algorithm=knn_algo, weights='distance')\n",
        "knn_clf.fit(X, y)\n",
        "# Save the trained KNN classifier\n",
        "if model_save_path is not None:\n",
        "   with open(model_save_path, 'wb') as f:\n",
        "       pickle.dump(knn_clf, f)"
      ],
      "execution_count": null,
      "outputs": []
    },
    {
      "cell_type": "code",
      "metadata": {
        "id": "5GqCvVtrmIBi"
      },
      "source": [
        "#    Recognizes faces in given image using a trained KNN classifier\n",
        "\n",
        "img_path = '/content/drive/MyDrive/Colab_Notebooks/test_dir/ten5.jpg'\n",
        "knn_clf = None\n",
        "model_path = '/content/drive/MyDrive/Colab_Notebooks/model_save/model_save.pkl'\n",
        "distance_threshold=0.32\n",
        "\n",
        "if not os.path.isfile(img_path) or os.path.splitext(img_path)[1][1:] not in ALLOWED_EXTENSIONS:\n",
        "    raise Exception(\"Invalid image path: {}\".format(img_path))\n",
        "\n",
        "# Load a trained KNN model (if one was passed in)\n",
        "if knn_clf is None:\n",
        "    with open(model_path, 'rb') as f:\n",
        "            knn_clf = pickle.load(f)\n",
        "\n",
        "# Load image file and find face locations\n",
        "X_img = fr.load_image_file(img_path)\n",
        "X_face_locations = fr.face_locations(X_img)\n",
        "\n",
        "if len(X_face_locations) == 0:\n",
        "   predictions = {}\n",
        "else:\n",
        "  # Find encodings for faces in the test iamge\n",
        "  faces_encodings = fr.face_encodings(X_img, known_face_locations=X_face_locations)\n",
        "\n",
        "  # Use the KNN model to find the best matches for the test face\n",
        "  closest_distances = knn_clf.kneighbors(faces_encodings, n_neighbors=1)\n",
        "  are_matches = [closest_distances[0][i][0] <= distance_threshold for i in range(len(X_face_locations))]\n",
        "  predictions = set()\n",
        "  for pred, loc, rec in zip(knn_clf.predict(faces_encodings), X_face_locations, are_matches):\n",
        "    print(loc, pred)\n",
        "    if rec:\n",
        "      predictions_df = (pred, loc)\n",
        "      predictions.add(predictions_df)\n",
        "\n",
        "    else:\n",
        "      predictions_df = ('unknown', loc)\n",
        "      predictions.add(predictions_df)\n"
      ],
      "execution_count": null,
      "outputs": []
    },
    {
      "cell_type": "code",
      "metadata": {
        "id": "xnrh9jbaT-Ci"
      },
      "source": [
        "pil_image = Image.open(img_path).convert(\"RGB\")\n",
        "draw = ImageDraw.Draw(pil_image)\n",
        "\n",
        "for name, (top, right, bottom, left) in predictions:\n",
        "    # Draw a box around the face using the Pillow module\n",
        "    draw.rectangle(((left, top), (right, bottom)), outline=(0, 0, 0))\n",
        "    if name=='unknown':\n",
        "      crop_image = pil_image.crop((left, top, right, bottom))\n",
        "      blur_image = crop_image.filter(ImageFilter.GaussianBlur(radius=5))\n",
        "      pil_image.paste(blur_image, (left, top))\n",
        "\n",
        "    # There's a bug in Pillow where it blows up with non-UTF-8 text\n",
        "    # when using the default bitmap font\n",
        "    name = name.encode(\"UTF-8\")\n",
        "\n",
        "     # Draw a label with a name below the face\n",
        "    text_width, text_height = draw.textsize(name)\n",
        "    draw.rectangle(((left, bottom + text_height + 5), (right, bottom)), fill=(0, 0, 0), outline=(0, 0,0))\n",
        "    draw.text(((left + right)/2 - text_width/2, bottom + text_height - 8), name, fill=(255, 255, 255, 255))\n",
        "\n",
        "# Remove the drawing library from memory as per the Pillow docs\n",
        "del draw\n",
        "\n",
        "# Display the resulting image\n",
        "display(pil_image)\n",
        "\n",
        "pil_image.save('final_image.jpg')"
      ],
      "execution_count": null,
      "outputs": []
    },
    {
      "cell_type": "code",
      "metadata": {
        "id": "aTIKL4YwyJ6a"
      },
      "source": [
        " closest_distances"
      ],
      "execution_count": null,
      "outputs": []
    },
    {
      "cell_type": "code",
      "metadata": {
        "id": "-FDOr-Bjeggd"
      },
      "source": [
        "np.min(closest_distances, axis=1)"
      ],
      "execution_count": null,
      "outputs": []
    },
    {
      "cell_type": "code",
      "metadata": {
        "id": "_3EVSvVM0VBc"
      },
      "source": [
        "np.mean(closest_distances, axis=1)"
      ],
      "execution_count": null,
      "outputs": []
    },
    {
      "cell_type": "code",
      "metadata": {
        "id": "VOXS2sfZK4N2"
      },
      "source": [
        "path_def = '/content/drive/MyDrive/Colab_Notebooks/sua_test_dir'\n",
        "\n",
        "for filename in os.listdir(path_def):\n",
        "  file_path=os.path.join(path_def, filename)\n",
        "  print(file_path)\n",
        "  print(filename)"
      ],
      "execution_count": null,
      "outputs": []
    }
  ]
}